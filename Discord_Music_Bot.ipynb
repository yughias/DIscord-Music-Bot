{
  "nbformat": 4,
  "nbformat_minor": 0,
  "metadata": {
    "colab": {
      "name": "Discord Music Bot.ipynb",
      "private_outputs": true,
      "provenance": [],
      "collapsed_sections": [
        "Ex7RJtFfZQ0q"
      ]
    },
    "kernelspec": {
      "name": "python3",
      "display_name": "Python 3"
    },
    "language_info": {
      "name": "python"
    }
  },
  "cells": [
    {
      "cell_type": "markdown",
      "metadata": {
        "id": "S-OIkzhRZDik"
      },
      "source": [
        "# Discord Music Bot\n",
        "\n"
      ]
    },
    {
      "cell_type": "markdown",
      "metadata": {
        "id": "W8Fb5ANfZIAY"
      },
      "source": [
        "## insert here your bot's API key"
      ]
    },
    {
      "cell_type": "code",
      "metadata": {
        "id": "_5FJAQUsXaup"
      },
      "source": [
        "apikey = input('insert your API key:')"
      ],
      "execution_count": null,
      "outputs": []
    },
    {
      "cell_type": "markdown",
      "metadata": {
        "id": "Ex7RJtFfZQ0q"
      },
      "source": [
        "## install all the necessary module"
      ]
    },
    {
      "cell_type": "code",
      "metadata": {
        "id": "AZ3zw_pSYkXV"
      },
      "source": [
        "!apt install ffmpeg\n",
        "!pip install youtube_dl\n",
        "!pip install discord\n",
        "!pip install PyNaCl\n",
        "!pip install youtube-search-python"
      ],
      "execution_count": null,
      "outputs": []
    },
    {
      "cell_type": "markdown",
      "metadata": {
        "id": "u7cANxsdBxxN"
      },
      "source": [
        "## run the following cells of code to run the bot"
      ]
    },
    {
      "cell_type": "code",
      "metadata": {
        "id": "k33fjMcLb6my"
      },
      "source": [
        "from __future__ import unicode_literals\n",
        "import youtube_dl\n",
        "import os\n",
        "\n",
        "ydl_opts = {\n",
        "    'outtmpl': 'audio.mp3',\n",
        "    'format': 'bestaudio/best',\n",
        "    'postprocessors': [{\n",
        "        'key': 'FFmpegExtractAudio',\n",
        "        'preferredcodec': 'mp3',\n",
        "        'preferredquality': '192',\n",
        "    }],\n",
        "}\n",
        "\n",
        "def download(url):\n",
        "  if os.path.isfile('audio.mp3'):\n",
        "    os.remove('audio.mp3')\n",
        "  with youtube_dl.YoutubeDL(ydl_opts) as ydl:\n",
        "      ydl.download([url])"
      ],
      "execution_count": null,
      "outputs": []
    },
    {
      "cell_type": "code",
      "metadata": {
        "id": "dQOZOEOxXuHz"
      },
      "source": [
        "import discord\n",
        "from discord.ext import commands\n",
        "from discord.ext import tasks\n",
        "import nest_asyncio\n",
        "import asyncio\n",
        "from youtubesearchpython import VideosSearch\n",
        "nest_asyncio.apply()\n",
        "\n",
        "urls = []\n",
        "vc = None\n",
        "user = None\n",
        "ctx_ = None\n",
        "\n",
        "bot = commands.Bot(command_prefix='!')\n",
        "\n",
        "def nextSong():\n",
        "  global urls\n",
        "  global vc\n",
        "  asyncio.run( streamMusic(urls[-1]) )\n",
        "  urls.pop()\n",
        "\n",
        "def makeUrl(words):\n",
        "  if len(words) == 1 and words[0].startswith('http'):\n",
        "    return words[0]\n",
        "  else:\n",
        "    query = ''\n",
        "    for word in words: query += word + ' '\n",
        "    query = query[:-1]\n",
        "    videosSearch = VideosSearch(query, limit=1).result()\n",
        "    return videosSearch['result'][0]['link']\n",
        "\n",
        "async def streamMusic(url):\n",
        "  global vc\n",
        "  global ctx_\n",
        "  #end if player is not in voice chat \n",
        "  user = ctx_.author\n",
        "  if user.voice is None: return\n",
        "  voice_channel = user.voice.channel\n",
        "  # grab user's voice channel\n",
        "  channel = voice_channel.name\n",
        "  #download Youtube Video and convert it in .mp3\n",
        "  download(url)\n",
        "  # create StreamPlayer\n",
        "  try:\n",
        "    vc = await voice_channel.connect()\n",
        "  except:\n",
        "    print('bot already connected!')\n",
        "  await ctx_.channel.send('Now playing: ' + url)\n",
        "  vc.play(discord.FFmpegPCMAudio('audio.mp3'))\n",
        "  vc.source = discord.PCMVolumeTransformer(vc.source)\n",
        "\n",
        "@bot.command(name='play', description='Play a video from Youtube', pass_context=True)\n",
        "async def play(ctx, *args):\n",
        "  global urls\n",
        "  global ctx_\n",
        "  global vc\n",
        "  if len(args) == 0: return\n",
        "  url = makeUrl(args)\n",
        "  ctx_ = ctx\n",
        "  urls.append(url)\n",
        "  if vc.is_playing():\n",
        "    await ctx.channel.send('Added to list: ' + url)\n",
        "\n",
        "@bot.command(name='leave')\n",
        "async def leave(ctx): \n",
        "    if (ctx.voice_client):\n",
        "        await ctx.guild.voice_client.disconnect()\n",
        "        await ctx.send('Bot left')\n",
        "\n",
        "@bot.command(name='list')\n",
        "async def list(ctx): \n",
        "  global urls\n",
        "  await ctx.channel.send(urls)\n",
        "\n",
        "@bot.command(name='skip')\n",
        "async def skip(ctx): \n",
        "  global vc\n",
        "  vc.stop()\n",
        "  await ctx.channel.send('Song skipped!')\n",
        "  nextSong()\n",
        "\n",
        "@tasks.loop(seconds = 2) # repeat after every 10 seconds\n",
        "async def CheckCurrentSong():\n",
        "  global urls\n",
        "  global vc\n",
        "  if vc is None or vc.is_playing() is not True:\n",
        "    if len(urls) is not 0:\n",
        "      nextSong()\n",
        "\n",
        "@bot.event\n",
        "async def on_ready():\n",
        "    CheckCurrentSong.start()\n",
        "    print(\"Ready!\")\n",
        "\n",
        "bot.run(apikey)"
      ],
      "execution_count": null,
      "outputs": []
    }
  ]
}